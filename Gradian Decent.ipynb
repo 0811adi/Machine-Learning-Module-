{
 "cells": [
  {
   "cell_type": "code",
   "execution_count": 1,
   "id": "65a90423",
   "metadata": {},
   "outputs": [],
   "source": [
    "import numpy as np"
   ]
  },
  {
   "cell_type": "code",
   "execution_count": 2,
   "id": "66007999",
   "metadata": {},
   "outputs": [
    {
     "ename": "SyntaxError",
     "evalue": "invalid syntax (2294838058.py, line 9)",
     "output_type": "error",
     "traceback": [
      "\u001b[1;36m  File \u001b[1;32m\"C:\\Users\\pc\\AppData\\Local\\Temp\\ipykernel_21292\\2294838058.py\"\u001b[1;36m, line \u001b[1;32m9\u001b[0m\n\u001b[1;33m    m_curr = m_curr - learning_rate * md\u001b[0m\n\u001b[1;37m    ^\u001b[0m\n\u001b[1;31mSyntaxError\u001b[0m\u001b[1;31m:\u001b[0m invalid syntax\n"
     ]
    }
   ],
   "source": [
    "def gradient_descent(x,y):\n",
    "    m_curr = b_curr = 0\n",
    "    iterations = 1000\n",
    "    learning_rate = 0.001\n",
    "    for i in range(iterations):\n",
    "        y_predictted = m_curr * x + b_curr\n",
    "        md = -(2/n)*sum(x*(y-y_predicted))\n",
    "        bd = -(2/n)*sum((y-y_predicted)\n",
    "        m_curr = m_curr - learning_rate * md \n",
    "        b_curr = b_curr - learning_rate * bd\n",
    "        print(\"m {}, b {}, iteration {}\".format(m_curr,b_curr))                "
   ]
  },
  {
   "cell_type": "code",
   "execution_count": null,
   "id": "b6590f84",
   "metadata": {},
   "outputs": [],
   "source": []
  }
 ],
 "metadata": {
  "kernelspec": {
   "display_name": "Python 3 (ipykernel)",
   "language": "python",
   "name": "python3"
  },
  "language_info": {
   "codemirror_mode": {
    "name": "ipython",
    "version": 3
   },
   "file_extension": ".py",
   "mimetype": "text/x-python",
   "name": "python",
   "nbconvert_exporter": "python",
   "pygments_lexer": "ipython3",
   "version": "3.9.7"
  }
 },
 "nbformat": 4,
 "nbformat_minor": 5
}
